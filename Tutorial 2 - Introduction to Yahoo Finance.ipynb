{
 "cells": [
  {
   "cell_type": "markdown",
   "metadata": {},
   "source": [
    "# Introduction to Yahoo Finance\n",
    "\n",
    "Yahoo Finance is the tool that you will be using throughout the term to get financial data. We will walk through some of the basic functionality from Yahoo Finance. "
   ]
  },
  {
   "cell_type": "markdown",
   "metadata": {},
   "source": [
    "## Import Module\n",
    "\n",
    "First, we need to import the Python module that will allow us to access Yahoo Finance - `yfinance`. Recall that we had installed this module earlier in the setup portion of this tutorial."
   ]
  },
  {
   "cell_type": "code",
   "execution_count": null,
   "metadata": {},
   "outputs": [],
   "source": [
    "# Import the library\n",
    "import yfinance as yf"
   ]
  },
  {
   "cell_type": "markdown",
   "metadata": {},
   "source": [
    "Let's find some data on Microsoft so we know that the ticker is MSFT. "
   ]
  },
  {
   "cell_type": "markdown",
   "metadata": {},
   "source": [
    "## Stock Info"
   ]
  },
  {
   "cell_type": "code",
   "execution_count": null,
   "metadata": {},
   "outputs": [],
   "source": [
    "# Call API for MSFT data\n"
   ]
  },
  {
   "cell_type": "code",
   "execution_count": null,
   "metadata": {},
   "outputs": [],
   "source": [
    "# Get stock info\n"
   ]
  },
  {
   "cell_type": "code",
   "execution_count": null,
   "metadata": {},
   "outputs": [],
   "source": [
    "# Extract stock info\n"
   ]
  },
  {
   "cell_type": "code",
   "execution_count": null,
   "metadata": {},
   "outputs": [],
   "source": [
    "# Show major holders\n"
   ]
  },
  {
   "cell_type": "markdown",
   "metadata": {},
   "source": [
    "There is a lot of information that you can extract simply by using this ticker. You can learn more [here.](https://pypi.org/project/yfinance/) You can play around with the different functions that come with Yahoo Finance and get familiar with the tools well."
   ]
  },
  {
   "cell_type": "markdown",
   "metadata": {},
   "source": [
    "## Historical Data\n",
    "Next, we want to extract historical data for this stock."
   ]
  },
  {
   "cell_type": "code",
   "execution_count": null,
   "metadata": {},
   "outputs": [],
   "source": [
    "# Assign variables to start and end date\n",
    "start_date = ''\n",
    "end_date = ''"
   ]
  },
  {
   "cell_type": "markdown",
   "metadata": {},
   "source": [
    "We will want to get all the historical stock data between these two dates."
   ]
  },
  {
   "cell_type": "code",
   "execution_count": null,
   "metadata": {},
   "outputs": [],
   "source": [
    "# Get historical data\n",
    "hist = msft.history(start=start_date, end=end_date)"
   ]
  },
  {
   "cell_type": "code",
   "execution_count": null,
   "metadata": {},
   "outputs": [],
   "source": [
    "# Check the type\n",
    "type(hist)"
   ]
  },
  {
   "cell_type": "markdown",
   "metadata": {},
   "source": [
    "This outputs our data as a DataFrame, which is essentially a table in Python. We will be learning more about DataFrames and how to manipulate and transform them in the next tutorial."
   ]
  },
  {
   "cell_type": "code",
   "execution_count": null,
   "metadata": {
    "scrolled": true
   },
   "outputs": [],
   "source": [
    "# View the first 5 rows of your data \n"
   ]
  },
  {
   "cell_type": "markdown",
   "metadata": {},
   "source": [
    "We can see that we have information such as the opening, high, low and closing price as well as the volume, dividends and stock splits on each day. We can also get our data in various intervals, such as monthly. \n",
    "\n",
    "The valid intervals are 1m,2m,5m,15m,30m,60m,90m,1h,1d,5d,1wk,1mo,3mo.\n",
    "\n",
    "\n",
    "Let's take a look at quarterly data."
   ]
  },
  {
   "cell_type": "code",
   "execution_count": null,
   "metadata": {},
   "outputs": [],
   "source": [
    "# Display quarter data\n"
   ]
  },
  {
   "cell_type": "markdown",
   "metadata": {},
   "source": [
    "As you can see, we have the full data for only January, April, July and October of this year. This is our quarterly data. We still have the rows in between since dividends were issued during those dates, but this would give us quarterly data.\n",
    "\n",
    "**Take-home Exercise:** Play around with the different intervals. What differences do you notice between the dates available during different intervals? "
   ]
  },
  {
   "cell_type": "markdown",
   "metadata": {},
   "source": [
    "This should give you an introduction to how to extract your data from Yahoo Finance for the upcoming assignments. You are able to use any of the code from this tutorial and the functions from this library that we have covered here in your assignments."
   ]
  }
 ],
 "metadata": {
  "kernelspec": {
   "display_name": "Python 3 (ipykernel)",
   "language": "python",
   "name": "python3"
  },
  "language_info": {
   "codemirror_mode": {
    "name": "ipython",
    "version": 3
   },
   "file_extension": ".py",
   "mimetype": "text/x-python",
   "name": "python",
   "nbconvert_exporter": "python",
   "pygments_lexer": "ipython3",
   "version": "3.8.5"
  },
  "vscode": {
   "interpreter": {
    "hash": "21378e9f2dcb3fc5514b29218ad4a39095a6f1e4eb20eddb2d044a265f182f84"
   }
  }
 },
 "nbformat": 4,
 "nbformat_minor": 4
}
