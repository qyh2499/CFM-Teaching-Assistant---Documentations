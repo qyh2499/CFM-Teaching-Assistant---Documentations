{
 "cells": [
  {
   "cell_type": "markdown",
   "metadata": {},
   "source": [
    "# Setting up the Python Interpreter"
   ]
  },
  {
   "cell_type": "markdown",
   "metadata": {},
   "source": [
    "## 1. Install Python\n",
    "- We will be using Python 3.9.13 for this course\n",
    "\n",
    "\n",
    "- Install Python 3.9.13 on your laptop if you haven’t already\n",
    "\n",
    "    - https://www.python.org/downloads/\n",
    "    - Select 3.9.13 from specific release\n",
    "    - Go to files and download the appropriate installer\n",
    "    - You can choose to add Python to Path\n",
    "\n"
   ]
  },
  {
   "cell_type": "markdown",
   "metadata": {},
   "source": [
    "## 2. Install Anaconda\n",
    "\n",
    "Anaconda is a distribution of the Python and R programming languages for scientific computing, that aims to simplify package management and deployment. The distribution includes data-science packages suitable for Windows, Linux, and macOS."
   ]
  },
  {
   "cell_type": "markdown",
   "metadata": {},
   "source": [
    "#### Installation instructions:\n",
    "1. Go to https://www.anaconda.com/products/distribution  \n",
    "\n",
    "\n",
    "2. Download the correct installer for your system. Make sure you download the one for Python 3.x  \n",
    "\n",
    "\n",
    "3. Open the installer, just proceed with all the default selections by clicking \"next\" unless you know how to customize  \n",
    "\n",
    "\n",
    "4. Complete the installation.  "
   ]
  },
  {
   "cell_type": "markdown",
   "metadata": {},
   "source": [
    "## 3. Set up Python environment\n",
    "\n",
    "#### Set up a virtual environment:\n",
    "\n",
    "(reference: https://www.geeksforgeeks.org/set-up-virtual-environment-for-python-using-anaconda/)\n",
    "\n",
    "\n",
    "Like many other languages Python requires a different version for different kind of applications. The application needs to run on a specific version of the language because it requires a certain dependency that is present in older versions but changes in newer versions. Virtual environments makes it easy to ideally separate different applications and avoid problems with different dependencies. Using virtual environment we can switch between both applications easily and get them running.\n",
    "\n",
    "1. Open your anaconda command prompt\n",
    "\n",
    "\n",
    "2. Enter \"conda -V\" to check if anaconda is in your path. It should display the anaconda version, eg. \"conda 4.12.0\"\n",
    "\n",
    "\n",
    "3. Create a virtual environment using the following prompt:\n",
    "> conda create -n venv python=3.9 anaconda\n",
    "    \n",
    "    \n",
    "4. Activate your virtual environment using the following prompt:\n",
    "> conda activate venv\n",
    "    \n",
    "    \n",
    "5. Installation of required packages to the virtual environment:\n",
    "> conda install -n venv [package] <br> (or you can use pip install [package])\n",
    "    \n",
    "    \n",
    "6. Deactivating the virtual environment\n",
    "> conda deactivate"
   ]
  },
  {
   "cell_type": "markdown",
   "metadata": {},
   "source": [
    "## 3. Create a Jupyter Notebook\n",
    "\n",
    "#### Use the anaconda navigator:\n",
    "1. Search for \"anaconda navigator\" in your files, and open it. It takes some time if you are executing it for the first time.\n",
    "\n",
    "\n",
    "2. Launch jupyter notebook.\n",
    "\n",
    "\n",
    "3. Navigate to the directory you want to create your files in\n",
    "\n",
    "\n",
    "4. Click \"New\" on the top right corner, and then under notebook, click \"venv\". This will create a notebook using the virtual environment you just set up"
   ]
  },
  {
   "cell_type": "code",
   "execution_count": null,
   "metadata": {},
   "outputs": [],
   "source": []
  }
 ],
 "metadata": {
  "kernelspec": {
   "display_name": "Python 3.8.5 64-bit",
   "language": "python",
   "name": "python3"
  },
  "language_info": {
   "codemirror_mode": {
    "name": "ipython",
    "version": 3
   },
   "file_extension": ".py",
   "mimetype": "text/x-python",
   "name": "python",
   "nbconvert_exporter": "python",
   "pygments_lexer": "ipython3",
   "version": "3.8.5"
  },
  "vscode": {
   "interpreter": {
    "hash": "21378e9f2dcb3fc5514b29218ad4a39095a6f1e4eb20eddb2d044a265f182f84"
   }
  }
 },
 "nbformat": 4,
 "nbformat_minor": 4
}
