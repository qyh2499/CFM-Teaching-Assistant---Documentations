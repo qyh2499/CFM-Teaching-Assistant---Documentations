{
 "cells": [
  {
   "cell_type": "markdown",
   "id": "71e9e783",
   "metadata": {},
   "source": [
    "## Introduction to Markdown\n",
    "\n",
    "To change a code block to Markdown, you can use the drop down from the top menu. Change it from Code to Markdown.\n",
    "\n",
    "A quick shortcut is when you create a new block, you can click M while it is blue and it will turn it into markdown. Once it is green, it is in the ready phase for you to type code or markdown so you need to click the side of the block to change it back to editing phase (blue)."
   ]
  },
  {
   "cell_type": "markdown",
   "id": "4ecc090c",
   "metadata": {},
   "source": [
    "Other quick shortcuts when the code block is blue:\n",
    "* A: Add block above\n",
    "* B: Add block below\n",
    "* DD: Delete block\n",
    "* Shift and down: Allows you to highlight multiple blocks. You can then delete multiple blocks or copy and them and paste them elsewhere.\n",
    "* CTRL + C/COMMAND + C: Copy\n",
    "* CTRL + V/COMMAND + V: Paste\n",
    "\n",
    "Double click on any markdown code chunk to edit it again and if you want to see the syntax used to get the stylistic components."
   ]
  },
  {
   "cell_type": "markdown",
   "id": "67592ebe",
   "metadata": {},
   "source": [
    "# Header 1\n",
    "## Header 2 \n",
    "### Header 3 \n",
    "#### Header 4 \n",
    "##### Header 5 \n",
    "\n",
    "**Bold**\n",
    "\n",
    "_Italics_\n",
    "\n",
    "`variable_name`\n",
    "\n",
    "```\n",
    "This is\n",
    "a\n",
    "code chunk\n",
    "here\n",
    "```\n",
    "\n",
    "Here is a bullet list:\n",
    "* Milk\n",
    "* Eggs\n",
    "* Bread\n",
    "\n",
    "Here is a numbered list:\n",
    "1. First\n",
    "2. Second\n",
    "3. Third\n",
    "\n",
    "You will be using markdown to write down explanations during your assignment, summarize findings, or to note your final answer statements. "
   ]
  },
  {
   "cell_type": "markdown",
   "id": "5ebbab62",
   "metadata": {},
   "source": [
    "Insert a code chunk with the following to insert a new page:\n",
    "\n",
    "```\n",
    "%%latex\n",
    "\\newpage\n",
    "```"
   ]
  },
  {
   "cell_type": "markdown",
   "id": "b323e565",
   "metadata": {},
   "source": [
    "## Resources:\n",
    "* [Markdown Tutorial](https://www.markdowntutorial.com/)\n",
    "2. [Markdown Syntax Guide](https://www.markdownguide.org/basic-syntax/)\n",
    "3. [Mastering Markdown](https://guides.github.com/features/mastering-markdown/)"
   ]
  }
 ],
 "metadata": {
  "kernelspec": {
   "display_name": "Python 3.8.5 64-bit",
   "language": "python",
   "name": "python3"
  },
  "language_info": {
   "codemirror_mode": {
    "name": "ipython",
    "version": 3
   },
   "file_extension": ".py",
   "mimetype": "text/x-python",
   "name": "python",
   "nbconvert_exporter": "python",
   "pygments_lexer": "ipython3",
   "version": "3.8.5"
  },
  "vscode": {
   "interpreter": {
    "hash": "21378e9f2dcb3fc5514b29218ad4a39095a6f1e4eb20eddb2d044a265f182f84"
   }
  }
 },
 "nbformat": 4,
 "nbformat_minor": 5
}
