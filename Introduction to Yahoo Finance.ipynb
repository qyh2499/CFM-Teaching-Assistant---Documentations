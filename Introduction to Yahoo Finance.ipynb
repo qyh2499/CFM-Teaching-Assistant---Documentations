{
 "cells": [
  {
   "cell_type": "markdown",
   "metadata": {},
   "source": [
    "# Introduction to Yahoo Finance\n",
    "\n",
    "Yahoo Finance is the tool that you will be using throughout the term to get financial data. We will walk through some of the basic functionality from Yahoo Finance. "
   ]
  },
  {
   "cell_type": "markdown",
   "metadata": {},
   "source": [
    "## Import Module\n",
    "\n",
    "First, we need to import the Python module that will allow us to access Yahoo Finance - `yfinance`. Recall that we had installed this module earlier in the setup portion of this tutorial."
   ]
  },
  {
   "cell_type": "code",
   "execution_count": 1,
   "metadata": {},
   "outputs": [],
   "source": [
    "# Import the library\n",
    "import yfinance as yf"
   ]
  },
  {
   "cell_type": "markdown",
   "metadata": {},
   "source": [
    "Let's find some data on Microsoft so we know that the ticker is MSFT. "
   ]
  },
  {
   "cell_type": "markdown",
   "metadata": {},
   "source": [
    "## Stock Info"
   ]
  },
  {
   "cell_type": "code",
   "execution_count": 2,
   "metadata": {},
   "outputs": [],
   "source": [
    "# Call API for MSFT data\n",
    "msft = yf.Ticker('MSFT')"
   ]
  },
  {
   "cell_type": "code",
   "execution_count": 3,
   "metadata": {},
   "outputs": [
    {
     "data": {
      "text/plain": [
       "{'zip': '98052-6399',\n",
       " 'sector': 'Technology',\n",
       " 'fullTimeEmployees': 221000,\n",
       " 'longBusinessSummary': 'Microsoft Corporation develops, licenses, and supports software, services, devices, and solutions worldwide. The company operates in three segments: Productivity and Business Processes, Intelligent Cloud, and More Personal Computing. The Productivity and Business Processes segment offers Office, Exchange, SharePoint, Microsoft Teams, Office 365 Security and Compliance, Microsoft Viva, and Skype for Business; Skype, Outlook.com, OneDrive, and LinkedIn; and Dynamics 365, a set of cloud-based and on-premises business solutions for organizations and enterprise divisions. The Intelligent Cloud segment licenses SQL, Windows Servers, Visual Studio, System Center, and related Client Access Licenses; GitHub that provides a collaboration platform and code hosting service for developers; Nuance provides healthcare and enterprise AI solutions; and Azure, a cloud platform. It also offers enterprise support, Microsoft consulting, and nuance professional services to assist customers in developing, deploying, and managing Microsoft server and desktop solutions; and training and certification on Microsoft products. The More Personal Computing segment provides Windows original equipment manufacturer (OEM) licensing and other non-volume licensing of the Windows operating system; Windows Commercial, such as volume licensing of the Windows operating system, Windows cloud services, and other Windows commercial offerings; patent licensing; and Windows Internet of Things. It also offers Surface, PC accessories, PCs, tablets, gaming and entertainment consoles, and other devices; Gaming, including Xbox hardware, and Xbox content and services; video games and third-party video game royalties; and Search, including Bing and Microsoft advertising. The company sells its products through OEMs, distributors, and resellers; and directly through digital marketplaces, online stores, and retail stores. Microsoft Corporation was founded in 1975 and is headquartered in Redmond, Washington.',\n",
       " 'city': 'Redmond',\n",
       " 'phone': '425 882 8080',\n",
       " 'state': 'WA',\n",
       " 'country': 'United States',\n",
       " 'companyOfficers': [],\n",
       " 'website': 'https://www.microsoft.com',\n",
       " 'maxAge': 1,\n",
       " 'address1': 'One Microsoft Way',\n",
       " 'fax': '425 706 7329',\n",
       " 'industry': 'Software—Infrastructure',\n",
       " 'ebitdaMargins': 0.49418998,\n",
       " 'profitMargins': 0.36686,\n",
       " 'grossMargins': 0.68402,\n",
       " 'operatingCashflow': 89034997760,\n",
       " 'revenueGrowth': 0.124,\n",
       " 'operatingMargins': 0.42055,\n",
       " 'ebitda': 97982996480,\n",
       " 'targetLowPrice': 250,\n",
       " 'recommendationKey': 'buy',\n",
       " 'grossProfits': 135620000000,\n",
       " 'freeCashflow': 49479000064,\n",
       " 'targetMedianPrice': 330,\n",
       " 'currentPrice': 286.15,\n",
       " 'earningsGrowth': 0.031,\n",
       " 'currentRatio': 1.785,\n",
       " 'returnOnAssets': 0.14919,\n",
       " 'numberOfAnalystOpinions': 47,\n",
       " 'targetMeanPrice': 333,\n",
       " 'debtToEquity': 47.075,\n",
       " 'returnOnEquity': 0.47151002,\n",
       " 'targetHighPrice': 411,\n",
       " 'totalCash': 104748998656,\n",
       " 'totalDebt': 78399995904,\n",
       " 'totalRevenue': 198269992960,\n",
       " 'totalCashPerShare': 14.045,\n",
       " 'financialCurrency': 'USD',\n",
       " 'revenuePerShare': 26.45,\n",
       " 'quickRatio': 1.567,\n",
       " 'recommendationMean': 1.7,\n",
       " 'exchange': 'NMS',\n",
       " 'shortName': 'Microsoft Corporation',\n",
       " 'longName': 'Microsoft Corporation',\n",
       " 'exchangeTimezoneName': 'America/New_York',\n",
       " 'exchangeTimezoneShortName': 'EDT',\n",
       " 'isEsgPopulated': False,\n",
       " 'gmtOffSetMilliseconds': '-14400000',\n",
       " 'quoteType': 'EQUITY',\n",
       " 'symbol': 'MSFT',\n",
       " 'messageBoardId': 'finmb_21835',\n",
       " 'market': 'us_market',\n",
       " 'annualHoldingsTurnover': None,\n",
       " 'enterpriseToRevenue': 10.631,\n",
       " 'beta3Year': None,\n",
       " 'enterpriseToEbitda': 21.511,\n",
       " '52WeekChange': -0.06072545,\n",
       " 'morningStarRiskRating': None,\n",
       " 'forwardEps': 11.93,\n",
       " 'revenueQuarterlyGrowth': None,\n",
       " 'sharesOutstanding': 7457889792,\n",
       " 'fundInceptionDate': None,\n",
       " 'annualReportExpenseRatio': None,\n",
       " 'totalAssets': None,\n",
       " 'bookValue': 22.313,\n",
       " 'sharesShort': 38192351,\n",
       " 'sharesPercentSharesOut': 0.0050999997,\n",
       " 'fundFamily': None,\n",
       " 'lastFiscalYearEnd': 1656547200,\n",
       " 'heldPercentInstitutions': 0.72037005,\n",
       " 'netIncomeToCommon': 72737996800,\n",
       " 'trailingEps': 9.52,\n",
       " 'lastDividendValue': 0.62,\n",
       " 'SandP52WeekChange': -0.056043804,\n",
       " 'priceToBook': 12.824363,\n",
       " 'heldPercentInsiders': 0.00074,\n",
       " 'nextFiscalYearEnd': 1719705600,\n",
       " 'yield': None,\n",
       " 'mostRecentQuarter': 1656547200,\n",
       " 'shortRatio': 1.43,\n",
       " 'sharesShortPreviousMonthDate': 1656547200,\n",
       " 'floatShares': 7450732296,\n",
       " 'beta': 0.927206,\n",
       " 'enterpriseValue': 2107726757888,\n",
       " 'priceHint': 2,\n",
       " 'threeYearAverageReturn': None,\n",
       " 'lastSplitDate': 1045526400,\n",
       " 'lastSplitFactor': '2:1',\n",
       " 'legalType': None,\n",
       " 'lastDividendDate': 1660694400,\n",
       " 'morningStarOverallRating': None,\n",
       " 'earningsQuarterlyGrowth': 0.017,\n",
       " 'priceToSalesTrailing12Months': 10.76348,\n",
       " 'dateShortInterest': 1659052800,\n",
       " 'pegRatio': 1.86,\n",
       " 'ytdReturn': None,\n",
       " 'forwardPE': 23.985748,\n",
       " 'lastCapGain': None,\n",
       " 'shortPercentOfFloat': 0.0050999997,\n",
       " 'sharesShortPriorMonth': 38896339,\n",
       " 'impliedSharesOutstanding': 0,\n",
       " 'category': None,\n",
       " 'fiveYearAverageReturn': None,\n",
       " 'previousClose': 290.17,\n",
       " 'regularMarketOpen': 288.9,\n",
       " 'twoHundredDayAverage': 293.6158,\n",
       " 'trailingAnnualDividendYield': 0.008546714,\n",
       " 'payoutRatio': 0.2508,\n",
       " 'volume24Hr': None,\n",
       " 'regularMarketDayHigh': 289.25,\n",
       " 'navPrice': None,\n",
       " 'averageDailyVolume10Day': 20168540,\n",
       " 'regularMarketPreviousClose': 290.17,\n",
       " 'fiftyDayAverage': 267.0292,\n",
       " 'trailingAnnualDividendRate': 2.48,\n",
       " 'open': 288.9,\n",
       " 'toCurrency': None,\n",
       " 'averageVolume10days': 20168540,\n",
       " 'expireDate': None,\n",
       " 'algorithm': None,\n",
       " 'dividendRate': 2.48,\n",
       " 'exDividendDate': 1660694400,\n",
       " 'circulatingSupply': None,\n",
       " 'startDate': None,\n",
       " 'regularMarketDayLow': 285.56,\n",
       " 'currency': 'USD',\n",
       " 'trailingPE': 30.057772,\n",
       " 'regularMarketVolume': 20570033,\n",
       " 'lastMarket': None,\n",
       " 'maxSupply': None,\n",
       " 'openInterest': None,\n",
       " 'marketCap': 2134075113472,\n",
       " 'volumeAllCurrencies': None,\n",
       " 'strikePrice': None,\n",
       " 'averageVolume': 26469567,\n",
       " 'dayLow': 285.56,\n",
       " 'ask': 285.19,\n",
       " 'askSize': 800,\n",
       " 'volume': 20570033,\n",
       " 'fiftyTwoWeekHigh': 349.67,\n",
       " 'fromCurrency': None,\n",
       " 'fiveYearAvgDividendYield': 1.23,\n",
       " 'fiftyTwoWeekLow': 241.51,\n",
       " 'bid': 285,\n",
       " 'tradeable': False,\n",
       " 'dividendYield': 0.0085,\n",
       " 'bidSize': 900,\n",
       " 'dayHigh': 289.25,\n",
       " 'coinMarketCapLink': None,\n",
       " 'regularMarketPrice': 286.15,\n",
       " 'preMarketPrice': None,\n",
       " 'logo_url': 'https://logo.clearbit.com/microsoft.com'}"
      ]
     },
     "execution_count": 3,
     "metadata": {},
     "output_type": "execute_result"
    }
   ],
   "source": [
    "# Get stock info\n",
    "msft.info"
   ]
  },
  {
   "cell_type": "code",
   "execution_count": 4,
   "metadata": {},
   "outputs": [
    {
     "data": {
      "text/plain": [
       "'Technology'"
      ]
     },
     "execution_count": 4,
     "metadata": {},
     "output_type": "execute_result"
    }
   ],
   "source": [
    "# Extract stock info\n",
    "msft.info['sector']"
   ]
  },
  {
   "cell_type": "code",
   "execution_count": 5,
   "metadata": {},
   "outputs": [
    {
     "data": {
      "text/html": [
       "<div>\n",
       "<style scoped>\n",
       "    .dataframe tbody tr th:only-of-type {\n",
       "        vertical-align: middle;\n",
       "    }\n",
       "\n",
       "    .dataframe tbody tr th {\n",
       "        vertical-align: top;\n",
       "    }\n",
       "\n",
       "    .dataframe thead th {\n",
       "        text-align: right;\n",
       "    }\n",
       "</style>\n",
       "<table border=\"1\" class=\"dataframe\">\n",
       "  <thead>\n",
       "    <tr style=\"text-align: right;\">\n",
       "      <th></th>\n",
       "      <th>0</th>\n",
       "      <th>1</th>\n",
       "    </tr>\n",
       "  </thead>\n",
       "  <tbody>\n",
       "    <tr>\n",
       "      <th>0</th>\n",
       "      <td>0.07%</td>\n",
       "      <td>% of Shares Held by All Insider</td>\n",
       "    </tr>\n",
       "    <tr>\n",
       "      <th>1</th>\n",
       "      <td>72.04%</td>\n",
       "      <td>% of Shares Held by Institutions</td>\n",
       "    </tr>\n",
       "    <tr>\n",
       "      <th>2</th>\n",
       "      <td>72.09%</td>\n",
       "      <td>% of Float Held by Institutions</td>\n",
       "    </tr>\n",
       "    <tr>\n",
       "      <th>3</th>\n",
       "      <td>5936</td>\n",
       "      <td>Number of Institutions Holding Shares</td>\n",
       "    </tr>\n",
       "  </tbody>\n",
       "</table>\n",
       "</div>"
      ],
      "text/plain": [
       "        0                                      1\n",
       "0   0.07%        % of Shares Held by All Insider\n",
       "1  72.04%       % of Shares Held by Institutions\n",
       "2  72.09%        % of Float Held by Institutions\n",
       "3    5936  Number of Institutions Holding Shares"
      ]
     },
     "execution_count": 5,
     "metadata": {},
     "output_type": "execute_result"
    }
   ],
   "source": [
    "# Show major holders\n",
    "msft.major_holders"
   ]
  },
  {
   "cell_type": "markdown",
   "metadata": {},
   "source": [
    "There is a lot of information that you can extract simply by using this ticker. You can learn more [here.](https://pypi.org/project/yfinance/) You can play around with the different functions that come with Yahoo Finance and get familiar with the tools well."
   ]
  },
  {
   "cell_type": "markdown",
   "metadata": {},
   "source": [
    "## Historical Data\n",
    "Next, we want to extract historical data for this stock."
   ]
  },
  {
   "cell_type": "code",
   "execution_count": 6,
   "metadata": {},
   "outputs": [],
   "source": [
    "# Assign variables to start and end date\n",
    "start_date = '2020-01-01'\n",
    "end_date = '2021-01-01'"
   ]
  },
  {
   "cell_type": "markdown",
   "metadata": {},
   "source": [
    "We will want to get all the historical stock data between these two dates."
   ]
  },
  {
   "cell_type": "code",
   "execution_count": 7,
   "metadata": {},
   "outputs": [],
   "source": [
    "hist = msft.history(start=start_date, end=end_date)"
   ]
  },
  {
   "cell_type": "code",
   "execution_count": 8,
   "metadata": {},
   "outputs": [
    {
     "data": {
      "text/plain": [
       "pandas.core.frame.DataFrame"
      ]
     },
     "execution_count": 8,
     "metadata": {},
     "output_type": "execute_result"
    }
   ],
   "source": [
    "type(hist)"
   ]
  },
  {
   "cell_type": "markdown",
   "metadata": {},
   "source": [
    "This outputs our data as a DataFrame, which is essentially a table in Python. We will be learning more about DataFrames and how to manipulate and transform them in the next tutorial."
   ]
  },
  {
   "cell_type": "code",
   "execution_count": 9,
   "metadata": {
    "scrolled": true
   },
   "outputs": [
    {
     "data": {
      "text/html": [
       "<div>\n",
       "<style scoped>\n",
       "    .dataframe tbody tr th:only-of-type {\n",
       "        vertical-align: middle;\n",
       "    }\n",
       "\n",
       "    .dataframe tbody tr th {\n",
       "        vertical-align: top;\n",
       "    }\n",
       "\n",
       "    .dataframe thead th {\n",
       "        text-align: right;\n",
       "    }\n",
       "</style>\n",
       "<table border=\"1\" class=\"dataframe\">\n",
       "  <thead>\n",
       "    <tr style=\"text-align: right;\">\n",
       "      <th></th>\n",
       "      <th>Open</th>\n",
       "      <th>High</th>\n",
       "      <th>Low</th>\n",
       "      <th>Close</th>\n",
       "      <th>Volume</th>\n",
       "      <th>Dividends</th>\n",
       "      <th>Stock Splits</th>\n",
       "    </tr>\n",
       "    <tr>\n",
       "      <th>Date</th>\n",
       "      <th></th>\n",
       "      <th></th>\n",
       "      <th></th>\n",
       "      <th></th>\n",
       "      <th></th>\n",
       "      <th></th>\n",
       "      <th></th>\n",
       "    </tr>\n",
       "  </thead>\n",
       "  <tbody>\n",
       "    <tr>\n",
       "      <th>2020-01-02</th>\n",
       "      <td>154.798157</td>\n",
       "      <td>156.699253</td>\n",
       "      <td>154.359445</td>\n",
       "      <td>156.592010</td>\n",
       "      <td>22622100</td>\n",
       "      <td>0.0</td>\n",
       "      <td>0</td>\n",
       "    </tr>\n",
       "    <tr>\n",
       "      <th>2020-01-03</th>\n",
       "      <td>154.349686</td>\n",
       "      <td>155.938799</td>\n",
       "      <td>154.096197</td>\n",
       "      <td>154.642151</td>\n",
       "      <td>21116200</td>\n",
       "      <td>0.0</td>\n",
       "      <td>0</td>\n",
       "    </tr>\n",
       "    <tr>\n",
       "      <th>2020-01-06</th>\n",
       "      <td>153.140805</td>\n",
       "      <td>155.110152</td>\n",
       "      <td>152.585092</td>\n",
       "      <td>155.041901</td>\n",
       "      <td>20813700</td>\n",
       "      <td>0.0</td>\n",
       "      <td>0</td>\n",
       "    </tr>\n",
       "    <tr>\n",
       "      <th>2020-01-07</th>\n",
       "      <td>155.324605</td>\n",
       "      <td>155.665819</td>\n",
       "      <td>153.374760</td>\n",
       "      <td>153.628235</td>\n",
       "      <td>21634100</td>\n",
       "      <td>0.0</td>\n",
       "      <td>0</td>\n",
       "    </tr>\n",
       "    <tr>\n",
       "      <th>2020-01-08</th>\n",
       "      <td>154.944404</td>\n",
       "      <td>156.767519</td>\n",
       "      <td>153.988984</td>\n",
       "      <td>156.075317</td>\n",
       "      <td>27746500</td>\n",
       "      <td>0.0</td>\n",
       "      <td>0</td>\n",
       "    </tr>\n",
       "  </tbody>\n",
       "</table>\n",
       "</div>"
      ],
      "text/plain": [
       "                  Open        High         Low       Close    Volume  \\\n",
       "Date                                                                   \n",
       "2020-01-02  154.798157  156.699253  154.359445  156.592010  22622100   \n",
       "2020-01-03  154.349686  155.938799  154.096197  154.642151  21116200   \n",
       "2020-01-06  153.140805  155.110152  152.585092  155.041901  20813700   \n",
       "2020-01-07  155.324605  155.665819  153.374760  153.628235  21634100   \n",
       "2020-01-08  154.944404  156.767519  153.988984  156.075317  27746500   \n",
       "\n",
       "            Dividends  Stock Splits  \n",
       "Date                                 \n",
       "2020-01-02        0.0             0  \n",
       "2020-01-03        0.0             0  \n",
       "2020-01-06        0.0             0  \n",
       "2020-01-07        0.0             0  \n",
       "2020-01-08        0.0             0  "
      ]
     },
     "execution_count": 9,
     "metadata": {},
     "output_type": "execute_result"
    }
   ],
   "source": [
    "# View the first 5 rows of your data \n",
    "hist.head()"
   ]
  },
  {
   "cell_type": "markdown",
   "metadata": {},
   "source": [
    "We can see that we have information such as the opening, high, low and closing price as well as the volume, dividends and stock splits on each day. We can also get our data in various intervals, such as monthly. \n",
    "\n",
    "The valid intervals are 1m,2m,5m,15m,30m,60m,90m,1h,1d,5d,1wk,1mo,3mo.\n",
    "\n",
    "\n",
    "Let's take a look at quarterly data."
   ]
  },
  {
   "cell_type": "code",
   "execution_count": 10,
   "metadata": {},
   "outputs": [],
   "source": [
    "quarter = msft.history(start=start_date, end=end_date, interval=\"3mo\")"
   ]
  },
  {
   "cell_type": "code",
   "execution_count": 11,
   "metadata": {
    "scrolled": true
   },
   "outputs": [
    {
     "data": {
      "text/html": [
       "<div>\n",
       "<style scoped>\n",
       "    .dataframe tbody tr th:only-of-type {\n",
       "        vertical-align: middle;\n",
       "    }\n",
       "\n",
       "    .dataframe tbody tr th {\n",
       "        vertical-align: top;\n",
       "    }\n",
       "\n",
       "    .dataframe thead th {\n",
       "        text-align: right;\n",
       "    }\n",
       "</style>\n",
       "<table border=\"1\" class=\"dataframe\">\n",
       "  <thead>\n",
       "    <tr style=\"text-align: right;\">\n",
       "      <th></th>\n",
       "      <th>Open</th>\n",
       "      <th>High</th>\n",
       "      <th>Low</th>\n",
       "      <th>Close</th>\n",
       "      <th>Volume</th>\n",
       "      <th>Dividends</th>\n",
       "      <th>Stock Splits</th>\n",
       "    </tr>\n",
       "    <tr>\n",
       "      <th>Date</th>\n",
       "      <th></th>\n",
       "      <th></th>\n",
       "      <th></th>\n",
       "      <th></th>\n",
       "      <th></th>\n",
       "      <th></th>\n",
       "      <th></th>\n",
       "    </tr>\n",
       "  </thead>\n",
       "  <tbody>\n",
       "    <tr>\n",
       "      <th>2020-01-01</th>\n",
       "      <td>154.798149</td>\n",
       "      <td>185.917664</td>\n",
       "      <td>129.196697</td>\n",
       "      <td>153.754990</td>\n",
       "      <td>3.058748e+09</td>\n",
       "      <td>0.00</td>\n",
       "      <td>0</td>\n",
       "    </tr>\n",
       "    <tr>\n",
       "      <th>2020-02-19</th>\n",
       "      <td>NaN</td>\n",
       "      <td>NaN</td>\n",
       "      <td>NaN</td>\n",
       "      <td>NaN</td>\n",
       "      <td>NaN</td>\n",
       "      <td>0.51</td>\n",
       "      <td>0</td>\n",
       "    </tr>\n",
       "    <tr>\n",
       "      <th>2020-04-01</th>\n",
       "      <td>149.570505</td>\n",
       "      <td>199.818369</td>\n",
       "      <td>146.989682</td>\n",
       "      <td>198.948318</td>\n",
       "      <td>2.438515e+09</td>\n",
       "      <td>0.00</td>\n",
       "      <td>0</td>\n",
       "    </tr>\n",
       "    <tr>\n",
       "      <th>2020-05-20</th>\n",
       "      <td>NaN</td>\n",
       "      <td>NaN</td>\n",
       "      <td>NaN</td>\n",
       "      <td>NaN</td>\n",
       "      <td>NaN</td>\n",
       "      <td>0.51</td>\n",
       "      <td>0</td>\n",
       "    </tr>\n",
       "    <tr>\n",
       "      <th>2020-07-01</th>\n",
       "      <td>199.139725</td>\n",
       "      <td>228.274474</td>\n",
       "      <td>192.385405</td>\n",
       "      <td>206.188141</td>\n",
       "      <td>2.230791e+09</td>\n",
       "      <td>0.00</td>\n",
       "      <td>0</td>\n",
       "    </tr>\n",
       "    <tr>\n",
       "      <th>2020-08-19</th>\n",
       "      <td>NaN</td>\n",
       "      <td>NaN</td>\n",
       "      <td>NaN</td>\n",
       "      <td>NaN</td>\n",
       "      <td>NaN</td>\n",
       "      <td>0.51</td>\n",
       "      <td>0</td>\n",
       "    </tr>\n",
       "    <tr>\n",
       "      <th>2020-10-01</th>\n",
       "      <td>209.791821</td>\n",
       "      <td>224.168382</td>\n",
       "      <td>196.162074</td>\n",
       "      <td>218.567123</td>\n",
       "      <td>1.799823e+09</td>\n",
       "      <td>0.00</td>\n",
       "      <td>0</td>\n",
       "    </tr>\n",
       "    <tr>\n",
       "      <th>2020-11-18</th>\n",
       "      <td>NaN</td>\n",
       "      <td>NaN</td>\n",
       "      <td>NaN</td>\n",
       "      <td>NaN</td>\n",
       "      <td>NaN</td>\n",
       "      <td>0.56</td>\n",
       "      <td>0</td>\n",
       "    </tr>\n",
       "    <tr>\n",
       "      <th>2021-01-01</th>\n",
       "      <td>219.247718</td>\n",
       "      <td>239.061100</td>\n",
       "      <td>208.813923</td>\n",
       "      <td>228.538635</td>\n",
       "      <td>6.480764e+08</td>\n",
       "      <td>0.00</td>\n",
       "      <td>0</td>\n",
       "    </tr>\n",
       "  </tbody>\n",
       "</table>\n",
       "</div>"
      ],
      "text/plain": [
       "                  Open        High         Low       Close        Volume  \\\n",
       "Date                                                                       \n",
       "2020-01-01  154.798149  185.917664  129.196697  153.754990  3.058748e+09   \n",
       "2020-02-19         NaN         NaN         NaN         NaN           NaN   \n",
       "2020-04-01  149.570505  199.818369  146.989682  198.948318  2.438515e+09   \n",
       "2020-05-20         NaN         NaN         NaN         NaN           NaN   \n",
       "2020-07-01  199.139725  228.274474  192.385405  206.188141  2.230791e+09   \n",
       "2020-08-19         NaN         NaN         NaN         NaN           NaN   \n",
       "2020-10-01  209.791821  224.168382  196.162074  218.567123  1.799823e+09   \n",
       "2020-11-18         NaN         NaN         NaN         NaN           NaN   \n",
       "2021-01-01  219.247718  239.061100  208.813923  228.538635  6.480764e+08   \n",
       "\n",
       "            Dividends  Stock Splits  \n",
       "Date                                 \n",
       "2020-01-01       0.00             0  \n",
       "2020-02-19       0.51             0  \n",
       "2020-04-01       0.00             0  \n",
       "2020-05-20       0.51             0  \n",
       "2020-07-01       0.00             0  \n",
       "2020-08-19       0.51             0  \n",
       "2020-10-01       0.00             0  \n",
       "2020-11-18       0.56             0  \n",
       "2021-01-01       0.00             0  "
      ]
     },
     "execution_count": 11,
     "metadata": {},
     "output_type": "execute_result"
    }
   ],
   "source": [
    "quarter"
   ]
  },
  {
   "cell_type": "markdown",
   "metadata": {},
   "source": [
    "As you can see, we have the full data for only January, April, July and October of this year. This is our quarterly data. We still have the rows in between since dividends were issued during those dates, but this would give us quarterly data.\n",
    "\n",
    "**Take-home Exercise:** Play around with the different intervals. What differences do you notice between the dates available during different intervals? "
   ]
  },
  {
   "cell_type": "markdown",
   "metadata": {},
   "source": [
    "This should give you an introduction to how to extract your data from Yahoo Finance for the upcoming assignments. You are able to use any of the code from this tutorial and the functions from this library that we have covered here in your assignments."
   ]
  }
 ],
 "metadata": {
  "kernelspec": {
   "display_name": "Python 3",
   "language": "python",
   "name": "python3"
  },
  "language_info": {
   "codemirror_mode": {
    "name": "ipython",
    "version": 3
   },
   "file_extension": ".py",
   "mimetype": "text/x-python",
   "name": "python",
   "nbconvert_exporter": "python",
   "pygments_lexer": "ipython3",
   "version": "3.8.5"
  }
 },
 "nbformat": 4,
 "nbformat_minor": 4
}
