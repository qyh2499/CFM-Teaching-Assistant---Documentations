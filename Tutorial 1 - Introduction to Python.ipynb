{
 "cells": [
  {
   "cell_type": "markdown",
   "metadata": {},
   "source": [
    "# Introduction to Python"
   ]
  },
  {
   "cell_type": "markdown",
   "metadata": {},
   "source": [
    "## What is Python?\n",
    "\n",
    "Python is a _high-level general-purpose_ programming language. For data analytics, Python and R are the tools that have been widely accepted; however, Python is the preferred tool for most. It is especially popular in the FinTech field - common tools that are used are pandas, numpy, matplotlib, scikit-learn, etc. You will get comfortable with using pandas and matplotlib in this course!\n",
    "\n",
    "The code you write with Python can include assignment statements, function definitions and function calls, etc."
   ]
  },
  {
   "cell_type": "markdown",
   "metadata": {},
   "source": [
    "## Print Statements\n",
    "\n",
    "We'll begin by using a simple print statement. This will take the text that you have inputted and output it. "
   ]
  },
  {
   "cell_type": "code",
   "execution_count": null,
   "metadata": {},
   "outputs": [],
   "source": [
    "print('Hello World!')"
   ]
  },
  {
   "cell_type": "code",
   "execution_count": null,
   "metadata": {},
   "outputs": [],
   "source": [
    "# Print two statements\n"
   ]
  },
  {
   "cell_type": "code",
   "execution_count": null,
   "metadata": {
    "scrolled": true
   },
   "outputs": [],
   "source": [
    "# Print a new line\n"
   ]
  },
  {
   "cell_type": "markdown",
   "metadata": {},
   "source": [
    "## Python Basics"
   ]
  },
  {
   "cell_type": "markdown",
   "metadata": {},
   "source": [
    "### Math Operations \n",
    "You can write some regular mathematical notation in Python and it will directly compute the results. This follows typical BEDMAS statements.  "
   ]
  },
  {
   "cell_type": "code",
   "execution_count": null,
   "metadata": {
    "scrolled": true
   },
   "outputs": [],
   "source": [
    "# Addition\n"
   ]
  },
  {
   "cell_type": "code",
   "execution_count": null,
   "metadata": {},
   "outputs": [],
   "source": [
    "# Subtraction\n"
   ]
  },
  {
   "cell_type": "code",
   "execution_count": null,
   "metadata": {},
   "outputs": [],
   "source": [
    "# Multiplication\n"
   ]
  },
  {
   "cell_type": "markdown",
   "metadata": {},
   "source": [
    "### Division"
   ]
  },
  {
   "cell_type": "code",
   "execution_count": null,
   "metadata": {},
   "outputs": [],
   "source": [
    "# Division\n"
   ]
  },
  {
   "cell_type": "markdown",
   "metadata": {},
   "source": [
    "The result for this type of division will always be a Float. "
   ]
  },
  {
   "cell_type": "code",
   "execution_count": null,
   "metadata": {
    "scrolled": true
   },
   "outputs": [],
   "source": [
    "# Integer Division\n"
   ]
  },
  {
   "cell_type": "markdown",
   "metadata": {},
   "source": [
    "In this case, the result will be an Integer. As we can see, integer division removes the remainder. So to get the remainder, we use `%`."
   ]
  },
  {
   "cell_type": "code",
   "execution_count": null,
   "metadata": {},
   "outputs": [],
   "source": [
    "# Remainder \n"
   ]
  },
  {
   "cell_type": "markdown",
   "metadata": {},
   "source": [
    "### Exponents"
   ]
  },
  {
   "cell_type": "code",
   "execution_count": null,
   "metadata": {},
   "outputs": [],
   "source": [
    "# Powers (2 cubed)\n"
   ]
  },
  {
   "cell_type": "code",
   "execution_count": null,
   "metadata": {},
   "outputs": [],
   "source": [
    "# Square root\n"
   ]
  },
  {
   "cell_type": "code",
   "execution_count": null,
   "metadata": {},
   "outputs": [],
   "source": [
    "# Cube root \n"
   ]
  },
  {
   "cell_type": "markdown",
   "metadata": {},
   "source": [
    "### Math Module"
   ]
  },
  {
   "cell_type": "markdown",
   "metadata": {},
   "source": [
    "You can also import the `math` module and use functions from there. This contains common mathematical constants (i.e. e, pi). To call any functions or constants, you need to include `math.` before the function to refernece it."
   ]
  },
  {
   "cell_type": "code",
   "execution_count": null,
   "metadata": {},
   "outputs": [],
   "source": [
    "import math\n"
   ]
  },
  {
   "cell_type": "code",
   "execution_count": null,
   "metadata": {},
   "outputs": [],
   "source": [
    "# pi\n"
   ]
  },
  {
   "cell_type": "code",
   "execution_count": null,
   "metadata": {},
   "outputs": [],
   "source": [
    "# e\n"
   ]
  },
  {
   "cell_type": "code",
   "execution_count": null,
   "metadata": {},
   "outputs": [],
   "source": [
    "# sqrt function\n"
   ]
  },
  {
   "cell_type": "markdown",
   "metadata": {},
   "source": [
    "## Assignment Statements\n",
    "Some syntax rules for assigning variables:\n",
    "* Never use dashes in assigning variables, use underscores instead (i.e. `variable-one` vs. `variable_one`)\n",
    "* Never start a variable with a number, it needs to start with a letter (i.e. `1variable` vs. `variable1`)"
   ]
  },
  {
   "cell_type": "code",
   "execution_count": null,
   "metadata": {},
   "outputs": [],
   "source": [
    "x = 2 "
   ]
  },
  {
   "cell_type": "code",
   "execution_count": null,
   "metadata": {},
   "outputs": [],
   "source": [
    "x + 2 "
   ]
  },
  {
   "cell_type": "code",
   "execution_count": null,
   "metadata": {},
   "outputs": [],
   "source": [
    "# Reassigns x to x + 2 \n"
   ]
  },
  {
   "cell_type": "code",
   "execution_count": null,
   "metadata": {},
   "outputs": [],
   "source": [
    "# Reassigns x to x - 2 \n"
   ]
  },
  {
   "cell_type": "markdown",
   "metadata": {},
   "source": [
    "## Data Types\n",
    "\n",
    "Other data types that will translate over from Racket as well include:\n",
    "* Float\n",
    "* Int \n",
    "* Strings\n",
    "* Booleans \n",
    "* Lists \n",
    "\n",
    "NOTE: For Booleans, it can be either True (=1) or False (=0). "
   ]
  },
  {
   "cell_type": "markdown",
   "metadata": {},
   "source": [
    "### Equality \n",
    "Comparisons can be used for equality or inequality testing. Equality testing is valid for most data types, however it is not recommended to use for `Float` values due to rounding errors"
   ]
  },
  {
   "cell_type": "code",
   "execution_count": null,
   "metadata": {},
   "outputs": [],
   "source": [
    "# Compare integers\n"
   ]
  },
  {
   "cell_type": "code",
   "execution_count": null,
   "metadata": {},
   "outputs": [],
   "source": [
    "# Compare strings\n"
   ]
  },
  {
   "cell_type": "code",
   "execution_count": null,
   "metadata": {
    "scrolled": true
   },
   "outputs": [],
   "source": [
    "# The value of True"
   ]
  },
  {
   "cell_type": "code",
   "execution_count": null,
   "metadata": {},
   "outputs": [],
   "source": [
    "# The value of False"
   ]
  },
  {
   "cell_type": "markdown",
   "metadata": {},
   "source": [
    "For not equal, the shorthand is `!=`"
   ]
  },
  {
   "cell_type": "code",
   "execution_count": null,
   "metadata": {},
   "outputs": [],
   "source": [
    "# Inequality\n"
   ]
  },
  {
   "cell_type": "markdown",
   "metadata": {},
   "source": [
    "For inequalities, you can use `>`, `>=`, `<` or `<=`"
   ]
  },
  {
   "cell_type": "code",
   "execution_count": null,
   "metadata": {},
   "outputs": [],
   "source": [
    "# Examples"
   ]
  },
  {
   "cell_type": "markdown",
   "metadata": {},
   "source": [
    "### Boolean Expressions\n",
    "\n",
    "This is very similar to Racket and includes expressions such as `and`, `or` and `not`\n",
    "\n",
    "`v1 and v2`\n",
    "* True only if v1 and v2 are both True\n",
    "\n",
    "\n",
    "`v1 or v2`\n",
    "* True if either v1 or v2 or both are True\n",
    "* Fales if both v1 and v2 are False\n",
    "\n",
    "`not v1`\n",
    "* True if v1 is False, else False\n"
   ]
  },
  {
   "cell_type": "markdown",
   "metadata": {},
   "source": [
    "### Casting\n",
    "\n",
    "Casting and conversions are used to convert from one data type to another."
   ]
  },
  {
   "cell_type": "markdown",
   "metadata": {},
   "source": [
    "**Convert to Float**\n",
    "* Inputs: Float, Int or Str\n",
    "* Outputs: Float"
   ]
  },
  {
   "cell_type": "code",
   "execution_count": null,
   "metadata": {
    "scrolled": true
   },
   "outputs": [],
   "source": [
    "# Convert to Float\n"
   ]
  },
  {
   "cell_type": "markdown",
   "metadata": {},
   "source": [
    "**Convert to Int**\n",
    "* Inputs: Float, Int or Str\n",
    "* Outputs: Int"
   ]
  },
  {
   "cell_type": "code",
   "execution_count": null,
   "metadata": {},
   "outputs": [],
   "source": [
    "# Convert to Int\n"
   ]
  },
  {
   "cell_type": "markdown",
   "metadata": {},
   "source": [
    "**Convert to Str**\n",
    "* Inputs: Float, Int or Str\n",
    "* Outputs: Str"
   ]
  },
  {
   "cell_type": "code",
   "execution_count": null,
   "metadata": {},
   "outputs": [],
   "source": [
    "# Convert to str"
   ]
  },
  {
   "cell_type": "markdown",
   "metadata": {},
   "source": [
    "### Lists\n",
    "\n",
    "List is one of the ways to store collections of data in a single variable. These are defined using `[]` and items are separated using commas. Lists can store any type of value or a combination of these data types.\n",
    "\n",
    "\n",
    "1. Items are indexed starting at zero\n",
    "    * The first item has index [0] and the last item has index [n-1] where n is the length of the list\n",
    "    * -len(lst) <= i <= len(lst) where i is an index for the list\n",
    "2. Lists can have duplicates \n",
    "    * Duplicate values can appear in the list at separate indices\n",
    "3. Lists are mutable \n",
    "    * We can add, remove, replace items in a list \n",
    "4. Lists are ordered \n",
    "    * New items will be added to the end and order does not change unless functions are applied to alter it "
   ]
  },
  {
   "cell_type": "code",
   "execution_count": null,
   "metadata": {},
   "outputs": [],
   "source": [
    "# Create a sample list\n",
    "lst = ['red', 'blue', 'yellow', 'green', 'purple', 'orange']"
   ]
  },
  {
   "cell_type": "code",
   "execution_count": null,
   "metadata": {},
   "outputs": [],
   "source": [
    "# First item\n"
   ]
  },
  {
   "cell_type": "code",
   "execution_count": null,
   "metadata": {},
   "outputs": [],
   "source": [
    "# Length of list\n"
   ]
  },
  {
   "cell_type": "code",
   "execution_count": null,
   "metadata": {},
   "outputs": [],
   "source": [
    "# Last item\n"
   ]
  },
  {
   "cell_type": "markdown",
   "metadata": {},
   "source": [
    "We can also slice lists which involves taking values from a range, i.e. first to third item. This uses the syntax `lst[i:j:k]` where `i` is the index to end at, `j-1` is the index to start at and `k` is how many places between each indexed item, i.e. every subsequent item is k=1, every other item is k=2, etc."
   ]
  },
  {
   "cell_type": "code",
   "execution_count": null,
   "metadata": {},
   "outputs": [],
   "source": [
    "# Slicing example: index 1 to 3\n"
   ]
  },
  {
   "cell_type": "code",
   "execution_count": null,
   "metadata": {},
   "outputs": [],
   "source": [
    "# Slicing example: index 0 to 5 with 2 places between each item\n"
   ]
  },
  {
   "cell_type": "code",
   "execution_count": null,
   "metadata": {},
   "outputs": [],
   "source": [
    "# Add item to list\n"
   ]
  },
  {
   "cell_type": "markdown",
   "metadata": {},
   "source": [
    "Now, we have a duplicate in our list!"
   ]
  },
  {
   "cell_type": "code",
   "execution_count": null,
   "metadata": {},
   "outputs": [],
   "source": [
    "# Removes first instance of blue\n"
   ]
  },
  {
   "cell_type": "markdown",
   "metadata": {},
   "source": [
    "Lists can also be empty."
   ]
  },
  {
   "cell_type": "code",
   "execution_count": null,
   "metadata": {},
   "outputs": [],
   "source": [
    "# Create an empty list\n"
   ]
  },
  {
   "cell_type": "markdown",
   "metadata": {},
   "source": [
    "There are a lot of functions that can be used with lists, but this will give you a good starting place. You can check out the Python documentation to learn more about how to manipulate lists. https://docs.python.org/3/tutorial/datastructures.html"
   ]
  },
  {
   "cell_type": "markdown",
   "metadata": {},
   "source": [
    "### Dictionaries\n",
    "\n",
    "Dictionaries are another way to store collections of data within Python. These are combinations of key-value pairs which maps it to the respective value. Dictionaries are defined using `{}` and a colon in between the key-value pair. Syntax is as follows:\n",
    "\n",
    "``` \n",
    "d = {key1: value1,\n",
    "     key2: value2,\n",
    "     ...,\n",
    "     keyN: valueN}\n",
    "```\n",
    "\n",
    "To access dictionary values, you call the corresponding key using square brackets, i.e. `d[key1]` will return `value1`. "
   ]
  },
  {
   "cell_type": "code",
   "execution_count": null,
   "metadata": {},
   "outputs": [],
   "source": [
    "d = {'FirstName': '',\n",
    "     'LastName': '',\n",
    "     'Program': '',\n",
    "     'Term': ''}"
   ]
  },
  {
   "cell_type": "code",
   "execution_count": null,
   "metadata": {},
   "outputs": [],
   "source": [
    "# Get first name\n"
   ]
  },
  {
   "cell_type": "code",
   "execution_count": null,
   "metadata": {},
   "outputs": [],
   "source": [
    "# Add new entry by assigning new key\n"
   ]
  },
  {
   "cell_type": "code",
   "execution_count": null,
   "metadata": {},
   "outputs": [],
   "source": [
    "# Update entry \n"
   ]
  },
  {
   "cell_type": "markdown",
   "metadata": {},
   "source": [
    "### Strings\n",
    "\n",
    "Strings are characters of words like what we have been using before."
   ]
  },
  {
   "cell_type": "code",
   "execution_count": null,
   "metadata": {},
   "outputs": [],
   "source": [
    "fruit = 'Apple'"
   ]
  },
  {
   "cell_type": "code",
   "execution_count": null,
   "metadata": {},
   "outputs": [],
   "source": [
    "# You can slice strings too\n"
   ]
  },
  {
   "cell_type": "code",
   "execution_count": null,
   "metadata": {},
   "outputs": [],
   "source": [
    "# Length of a string\n"
   ]
  },
  {
   "cell_type": "code",
   "execution_count": null,
   "metadata": {},
   "outputs": [],
   "source": [
    "# Convert strings to uppercase\n"
   ]
  },
  {
   "cell_type": "code",
   "execution_count": null,
   "metadata": {},
   "outputs": [],
   "source": [
    "# Lowercase\n"
   ]
  },
  {
   "cell_type": "code",
   "execution_count": null,
   "metadata": {},
   "outputs": [],
   "source": [
    "# List of characters \n"
   ]
  },
  {
   "cell_type": "code",
   "execution_count": null,
   "metadata": {},
   "outputs": [],
   "source": [
    "# Split based on a character\n"
   ]
  },
  {
   "cell_type": "markdown",
   "metadata": {},
   "source": [
    "Note that for the while loop, we have to initialize a counter variable, for example i = 0 and then update it at the end of the loop block. "
   ]
  },
  {
   "cell_type": "markdown",
   "metadata": {},
   "source": [
    "## Functions\n",
    "\n",
    "\n",
    "### Calling Functions\n",
    "You can call on built-in Python or user-defined functions as well."
   ]
  },
  {
   "cell_type": "code",
   "execution_count": null,
   "metadata": {},
   "outputs": [],
   "source": [
    "# absolute functions\n"
   ]
  },
  {
   "cell_type": "code",
   "execution_count": null,
   "metadata": {},
   "outputs": [],
   "source": [
    "# length function for a list\n"
   ]
  },
  {
   "cell_type": "code",
   "execution_count": null,
   "metadata": {
    "scrolled": true
   },
   "outputs": [],
   "source": [
    "# max/min function for a list\n"
   ]
  },
  {
   "cell_type": "markdown",
   "metadata": {},
   "source": [
    "When you were using the functions from the `math` module, you were calling on those specific functions, i.e. `math.sqrt()`."
   ]
  },
  {
   "cell_type": "markdown",
   "metadata": {},
   "source": [
    "### Creating New Functions\n",
    "\n",
    "To create a new function, follow the syntax below:\n",
    "``` \n",
    "def function_name([parameters]):\n",
    "    <statements>\n",
    "``` \n",
    "* `def`: To define a function\n",
    "* `function_name`: The name of the function, this will be used to call it later on\n",
    "* `parameters`: A list of parameters separated by commas\n",
    "\n",
    "This syntax will run statement1,...,statementM and then output the value which would be calculated or defined in one of the statements. \n",
    "* Each statement must follow the same indenting\n",
    "* Return statement added at the end to return a value, else it will defautl to returning `None` \n",
    "* You can also print something in your function, i.e. print(value)\n",
    "\n",
    "To call a function, use the following syntax:\n",
    "`function_name([<arguments>])`\n",
    "The arguments are the values that are passed into the function to correspond to the parameters that were defined. "
   ]
  },
  {
   "cell_type": "code",
   "execution_count": null,
   "metadata": {},
   "outputs": [],
   "source": [
    "# Function example\n",
    "def add_vars(x,y):\n",
    "    return x + y "
   ]
  },
  {
   "cell_type": "code",
   "execution_count": null,
   "metadata": {},
   "outputs": [],
   "source": [
    "# Call the function\n"
   ]
  },
  {
   "cell_type": "markdown",
   "metadata": {},
   "source": [
    "#### What can my function do?\n",
    "After defining your function, the following can be included in the body:\n",
    "* Assignment statements - this introduces local variables (explained more below)\n",
    "* Function calls (i.e. built in functions, other user-defined functions\n",
    "* Return statement\n",
    "* Print statement"
   ]
  },
  {
   "cell_type": "markdown",
   "metadata": {},
   "source": [
    "### Local vs. Global Variables\n",
    "Local variables do not exist outside of the function. This variable can only be called for a purpose within the function.\n",
    "\n",
    "Global variables on the other hand live outside the function and can be called at any point. This would include the variable x that we defined earlier with the **Assignment Statement** section of this Tutorial. "
   ]
  },
  {
   "cell_type": "code",
   "execution_count": null,
   "metadata": {},
   "outputs": [],
   "source": [
    "# Local veriable example\n",
    "def add_vars2(x,y):\n",
    "    added = x + y \n",
    "    return added"
   ]
  },
  {
   "cell_type": "markdown",
   "metadata": {},
   "source": [
    "In this case, added is a local variable and if I was to try calling added in a code block outside of that function, it would result in an error. However, it is referenced within the function with the return statement."
   ]
  },
  {
   "cell_type": "code",
   "execution_count": null,
   "metadata": {},
   "outputs": [],
   "source": [
    "add_vars2(3,4)"
   ]
  },
  {
   "cell_type": "markdown",
   "metadata": {},
   "source": [
    "## Loops\n",
    "\n",
    "A loop is used if you want to be repeating a block of code a number of times. This is the same concept as what you would have learned in CS115, CS135 or CS145 with Racket. We'll go over the syntax for for loops in Python. This will NOT be tested in the exercise section. We will revisit this topic in later tutorials if necessary."
   ]
  },
  {
   "cell_type": "markdown",
   "metadata": {},
   "source": [
    "#### For Loops\n",
    "For loops are useful when you know how many times you want the for loop to run."
   ]
  },
  {
   "cell_type": "code",
   "execution_count": null,
   "metadata": {},
   "outputs": [],
   "source": [
    "fruits = ['apple', 'peach', 'grapes']\n",
    "\n",
    "# For loop\n"
   ]
  },
  {
   "cell_type": "code",
   "execution_count": null,
   "metadata": {},
   "outputs": [],
   "source": [
    "# For loop with ranges\n"
   ]
  },
  {
   "cell_type": "markdown",
   "metadata": {},
   "source": [
    "#### While Loops\n",
    "While loops are useful when you want to break your loop with a separate case of conditions."
   ]
  },
  {
   "cell_type": "code",
   "execution_count": null,
   "metadata": {},
   "outputs": [],
   "source": []
  },
  {
   "cell_type": "markdown",
   "metadata": {},
   "source": [
    "## Exercises\n",
    "\n",
    "Exercise 1: Create a function that takes a string and output the last 2 character of the string. You may assume the input is a string of at least 2 characters.\n",
    "\n",
    "Exercise 2: Create a function that take a list of numbers and output the sum of the maximum and minimum values in the list.\n",
    "\n",
    "Additional exercises:\n",
    "\n",
    "Exercise 3: Create a dictionary that stores your first_name, last_name, student_id, and fav_animal. Extract your favorite animal from the dictionary.\n",
    "\n",
    "Exercise 4: Create a function that takes a list and a number *n* (given in string format) and output the *n*-th element of the list"
   ]
  },
  {
   "cell_type": "code",
   "execution_count": null,
   "metadata": {},
   "outputs": [],
   "source": [
    "# Exercise 1\n"
   ]
  },
  {
   "cell_type": "code",
   "execution_count": null,
   "metadata": {},
   "outputs": [],
   "source": [
    "# Exercise 2\n"
   ]
  },
  {
   "cell_type": "code",
   "execution_count": null,
   "metadata": {},
   "outputs": [],
   "source": [
    "# Exercise 3\n"
   ]
  },
  {
   "cell_type": "code",
   "execution_count": null,
   "metadata": {},
   "outputs": [],
   "source": [
    "# Exercise 4"
   ]
  },
  {
   "cell_type": "markdown",
   "metadata": {},
   "source": [
    "------"
   ]
  },
  {
   "cell_type": "markdown",
   "metadata": {},
   "source": [
    "## Next Steps\n",
    "\n",
    "Now that if you are comfortable with Python, we are going to introduce you to Yahoo Finance, the tool you will use to get all financial data for this course."
   ]
  }
 ],
 "metadata": {
  "kernelspec": {
   "display_name": "Python 3.8.5 64-bit",
   "language": "python",
   "name": "python3"
  },
  "language_info": {
   "codemirror_mode": {
    "name": "ipython",
    "version": 3
   },
   "file_extension": ".py",
   "mimetype": "text/x-python",
   "name": "python",
   "nbconvert_exporter": "python",
   "pygments_lexer": "ipython3",
   "version": "3.8.5"
  },
  "vscode": {
   "interpreter": {
    "hash": "21378e9f2dcb3fc5514b29218ad4a39095a6f1e4eb20eddb2d044a265f182f84"
   }
  }
 },
 "nbformat": 4,
 "nbformat_minor": 2
}
